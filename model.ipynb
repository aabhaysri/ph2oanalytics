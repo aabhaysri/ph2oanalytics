{
  "nbformat": 4,
  "nbformat_minor": 5,
  "metadata": {
    "kernelspec": {
      "display_name": "Python 3",
      "language": "python",
      "name": "python3"
    },
    "language_info": {
      "codemirror_mode": {
        "name": "ipython",
        "version": 3
      },
      "file_extension": ".py",
      "mimetype": "text/x-python",
      "name": "python",
      "nbconvert_exporter": "python",
      "pygments_lexer": "ipython3",
      "version": "3.8.8"
    },
    "colab": {
      "name": "model.ipynb",
      "provenance": [],
      "collapsed_sections": [],
      "include_colab_link": true
    },
    "accelerator": "GPU",
    "widgets": {
      "application/vnd.jupyter.widget-state+json": {
        "f0444b0cac794cd092abd9ec3257d24f": {
          "model_module": "@jupyter-widgets/controls",
          "model_name": "HBoxModel",
          "state": {
            "_view_name": "HBoxView",
            "_dom_classes": [],
            "_model_name": "HBoxModel",
            "_view_module": "@jupyter-widgets/controls",
            "_model_module_version": "1.5.0",
            "_view_count": null,
            "_view_module_version": "1.5.0",
            "box_style": "",
            "layout": "IPY_MODEL_a2736521a19743bfb1cbc3d555286ea1",
            "_model_module": "@jupyter-widgets/controls",
            "children": [
              "IPY_MODEL_1b3b69176b1c4c16b8b73a4a5143c623",
              "IPY_MODEL_a4a9be03be554387954a316d593b63d1"
            ]
          }
        },
        "a2736521a19743bfb1cbc3d555286ea1": {
          "model_module": "@jupyter-widgets/base",
          "model_name": "LayoutModel",
          "state": {
            "_view_name": "LayoutView",
            "grid_template_rows": null,
            "right": null,
            "justify_content": null,
            "_view_module": "@jupyter-widgets/base",
            "overflow": null,
            "_model_module_version": "1.2.0",
            "_view_count": null,
            "flex_flow": null,
            "width": null,
            "min_width": null,
            "border": null,
            "align_items": null,
            "bottom": null,
            "_model_module": "@jupyter-widgets/base",
            "top": null,
            "grid_column": null,
            "overflow_y": null,
            "overflow_x": null,
            "grid_auto_flow": null,
            "grid_area": null,
            "grid_template_columns": null,
            "flex": null,
            "_model_name": "LayoutModel",
            "justify_items": null,
            "grid_row": null,
            "max_height": null,
            "align_content": null,
            "visibility": null,
            "align_self": null,
            "height": null,
            "min_height": null,
            "padding": null,
            "grid_auto_rows": null,
            "grid_gap": null,
            "max_width": null,
            "order": null,
            "_view_module_version": "1.2.0",
            "grid_template_areas": null,
            "object_position": null,
            "object_fit": null,
            "grid_auto_columns": null,
            "margin": null,
            "display": null,
            "left": null
          }
        },
        "1b3b69176b1c4c16b8b73a4a5143c623": {
          "model_module": "@jupyter-widgets/controls",
          "model_name": "FloatProgressModel",
          "state": {
            "_view_name": "ProgressView",
            "style": "IPY_MODEL_dbb264c3c0d7454eaa216e34f564f4a2",
            "_dom_classes": [],
            "description": "Finding best initial lr: 100%",
            "_model_name": "FloatProgressModel",
            "bar_style": "",
            "max": 100,
            "_view_module": "@jupyter-widgets/controls",
            "_model_module_version": "1.5.0",
            "value": 100,
            "_view_count": null,
            "_view_module_version": "1.5.0",
            "orientation": "horizontal",
            "min": 0,
            "description_tooltip": null,
            "_model_module": "@jupyter-widgets/controls",
            "layout": "IPY_MODEL_b89405c753224b82ac0b648101fa68b3"
          }
        },
        "a4a9be03be554387954a316d593b63d1": {
          "model_module": "@jupyter-widgets/controls",
          "model_name": "HTMLModel",
          "state": {
            "_view_name": "HTMLView",
            "style": "IPY_MODEL_0f0860192c0a4529a091c6d75467b038",
            "_dom_classes": [],
            "description": "",
            "_model_name": "HTMLModel",
            "placeholder": "​",
            "_view_module": "@jupyter-widgets/controls",
            "_model_module_version": "1.5.0",
            "value": " 100/100 [01:06&lt;00:00,  1.49it/s]",
            "_view_count": null,
            "_view_module_version": "1.5.0",
            "description_tooltip": null,
            "_model_module": "@jupyter-widgets/controls",
            "layout": "IPY_MODEL_bed6de5d0d01424ca4f929d868ffece2"
          }
        },
        "dbb264c3c0d7454eaa216e34f564f4a2": {
          "model_module": "@jupyter-widgets/controls",
          "model_name": "ProgressStyleModel",
          "state": {
            "_view_name": "StyleView",
            "_model_name": "ProgressStyleModel",
            "description_width": "initial",
            "_view_module": "@jupyter-widgets/base",
            "_model_module_version": "1.5.0",
            "_view_count": null,
            "_view_module_version": "1.2.0",
            "bar_color": null,
            "_model_module": "@jupyter-widgets/controls"
          }
        },
        "b89405c753224b82ac0b648101fa68b3": {
          "model_module": "@jupyter-widgets/base",
          "model_name": "LayoutModel",
          "state": {
            "_view_name": "LayoutView",
            "grid_template_rows": null,
            "right": null,
            "justify_content": null,
            "_view_module": "@jupyter-widgets/base",
            "overflow": null,
            "_model_module_version": "1.2.0",
            "_view_count": null,
            "flex_flow": null,
            "width": null,
            "min_width": null,
            "border": null,
            "align_items": null,
            "bottom": null,
            "_model_module": "@jupyter-widgets/base",
            "top": null,
            "grid_column": null,
            "overflow_y": null,
            "overflow_x": null,
            "grid_auto_flow": null,
            "grid_area": null,
            "grid_template_columns": null,
            "flex": null,
            "_model_name": "LayoutModel",
            "justify_items": null,
            "grid_row": null,
            "max_height": null,
            "align_content": null,
            "visibility": null,
            "align_self": null,
            "height": null,
            "min_height": null,
            "padding": null,
            "grid_auto_rows": null,
            "grid_gap": null,
            "max_width": null,
            "order": null,
            "_view_module_version": "1.2.0",
            "grid_template_areas": null,
            "object_position": null,
            "object_fit": null,
            "grid_auto_columns": null,
            "margin": null,
            "display": null,
            "left": null
          }
        },
        "0f0860192c0a4529a091c6d75467b038": {
          "model_module": "@jupyter-widgets/controls",
          "model_name": "DescriptionStyleModel",
          "state": {
            "_view_name": "StyleView",
            "_model_name": "DescriptionStyleModel",
            "description_width": "",
            "_view_module": "@jupyter-widgets/base",
            "_model_module_version": "1.5.0",
            "_view_count": null,
            "_view_module_version": "1.2.0",
            "_model_module": "@jupyter-widgets/controls"
          }
        },
        "bed6de5d0d01424ca4f929d868ffece2": {
          "model_module": "@jupyter-widgets/base",
          "model_name": "LayoutModel",
          "state": {
            "_view_name": "LayoutView",
            "grid_template_rows": null,
            "right": null,
            "justify_content": null,
            "_view_module": "@jupyter-widgets/base",
            "overflow": null,
            "_model_module_version": "1.2.0",
            "_view_count": null,
            "flex_flow": null,
            "width": null,
            "min_width": null,
            "border": null,
            "align_items": null,
            "bottom": null,
            "_model_module": "@jupyter-widgets/base",
            "top": null,
            "grid_column": null,
            "overflow_y": null,
            "overflow_x": null,
            "grid_auto_flow": null,
            "grid_area": null,
            "grid_template_columns": null,
            "flex": null,
            "_model_name": "LayoutModel",
            "justify_items": null,
            "grid_row": null,
            "max_height": null,
            "align_content": null,
            "visibility": null,
            "align_self": null,
            "height": null,
            "min_height": null,
            "padding": null,
            "grid_auto_rows": null,
            "grid_gap": null,
            "max_width": null,
            "order": null,
            "_view_module_version": "1.2.0",
            "grid_template_areas": null,
            "object_position": null,
            "object_fit": null,
            "grid_auto_columns": null,
            "margin": null,
            "display": null,
            "left": null
          }
        }
      }
    }
  },
  "cells": [
    {
      "cell_type": "markdown",
      "metadata": {
        "id": "view-in-github",
        "colab_type": "text"
      },
      "source": [
        "<a href=\"https://colab.research.google.com/github/aabhaysri/ph2oanalytics/blob/machine-learning/model.ipynb\" target=\"_parent\"><img src=\"https://colab.research.google.com/assets/colab-badge.svg\" alt=\"Open In Colab\"/></a>"
      ]
    },
    {
      "cell_type": "code",
      "metadata": {
        "colab": {
          "base_uri": "https://localhost:8080/"
        },
        "id": "25f9eb85",
        "outputId": "d4c41cba-e408-40cf-9adc-e14e631c155b"
      },
      "source": [
        "import os\n",
        "import pandas as pd\n",
        "import numpy as np\n",
        "import pytorch_lightning as pl\n",
        "from pytorch_lightning.callbacks import EarlyStopping, LearningRateMonitor\n",
        "from pytorch_lightning.loggers import TensorBoardLogger\n",
        "import torch\n",
        "import tensorflow as tf\n",
        "\n",
        "from pytorch_forecasting import Baseline, TemporalFusionTransformer, TimeSeriesDataSet\n",
        "from pytorch_forecasting.data import GroupNormalizer\n",
        "from pytorch_forecasting.metrics import SMAPE, PoissonLoss, QuantileLoss\n",
        "from pytorch_forecasting.models.temporal_fusion_transformer.tuning import optimize_hyperparameters\n",
        "\n",
        "from google.colab import drive \n",
        "drive.mount('/content/drive')\n",
        "os.chdir(\"/content/drive/MyDrive/Data Sets - pH2O Analytics/Datasets/Cleansed Data\")"
      ],
      "id": "25f9eb85",
      "execution_count": 18,
      "outputs": [
        {
          "output_type": "stream",
          "text": [
            "Drive already mounted at /content/drive; to attempt to forcibly remount, call drive.mount(\"/content/drive\", force_remount=True).\n"
          ],
          "name": "stdout"
        }
      ]
    },
    {
      "cell_type": "code",
      "metadata": {
        "id": "87e52f5a"
      },
      "source": [
        "files = os.listdir()\n",
        "files = list(filter(lambda x: x.endswith(\".csv\"), files))\n",
        "\n",
        "dfs = []\n",
        "fileNames = []\n",
        "\n",
        "for file in files:\n",
        "    fileNames.append(str(file))\n",
        "    df = pd.read_csv(file,\n",
        "                     low_memory=False,\n",
        "                     usecols=[2, 4],\n",
        "                     skiprows=lambda x: 2 if x == 2 else x % 2 == 1,\n",
        "                     parse_dates=[\"datetime\"],\n",
        "                     date_parser=lambda x: pd.to_datetime(\n",
        "                         x, format=\"%m/%d/%Y %H:%M\"),\n",
        "                     index_col=[\"datetime\"])\n",
        "    df.columns = [\"ph\"]\n",
        "    dfs.append(df)"
      ],
      "id": "87e52f5a",
      "execution_count": 3,
      "outputs": []
    },
    {
      "cell_type": "code",
      "metadata": {
        "id": "e221c412"
      },
      "source": [
        "temp = []\n",
        "for i in range(len(dfs)):\n",
        "    df = pd.DataFrame()\n",
        "    df[\"v1\"] = dfs[i].index[:-1]\n",
        "    df[\"v2\"] = dfs[i].index[1:]\n",
        "    time_gaps = df[\"v1\"] - df[\"v2\"]\n",
        "\n",
        "    for z in range(len(time_gaps)):\n",
        "        time_gaps[z] = time_gaps[z].total_seconds()\n",
        "\n",
        "    if abs(time_gaps.min()) > 2628000:\n",
        "        continue\n",
        "    else:\n",
        "        temp.append(dfs[i])"
      ],
      "id": "e221c412",
      "execution_count": 4,
      "outputs": []
    },
    {
      "cell_type": "code",
      "metadata": {
        "id": "5fe2e0fc"
      },
      "source": [
        "dfs = temp\n",
        "data = dfs[0].filter([\"ph\"])\n",
        "data[\"time\"] = data.index\n",
        "timed = int((data.index[1] - data.index[0]).total_seconds())\n",
        "data[\"month\"] = data.index.month.astype(str).astype(\"category\")\n",
        "data[\"year\"] = data.index.year.astype(str).astype(\"category\")\n",
        "data[\"group\"] = 0\n",
        "data[\"time_idx\"] = (\n",
        "    (data.index - data.index[0]).total_seconds()/timed).astype(\"int64\")\n",
        "data.index = range(0, len(data.index))"
      ],
      "id": "5fe2e0fc",
      "execution_count": 30,
      "outputs": []
    },
    {
      "cell_type": "code",
      "metadata": {
        "id": "f05b9e9e"
      },
      "source": [
        "#max_prediction_length = int(43800 * 60 / timed)\n",
        "max_prediction_length=1000\n",
        "training_cutoff = data[\"time_idx\"].max() - max_prediction_length"
      ],
      "id": "f05b9e9e",
      "execution_count": 50,
      "outputs": []
    },
    {
      "cell_type": "code",
      "metadata": {
        "id": "6b76194a"
      },
      "source": [
        "max_encoder_length = max_prediction_length*2\n",
        "training = TimeSeriesDataSet(data[lambda x: x.time_idx <= training_cutoff],\n",
        "                             time_idx=\"time_idx\",\n",
        "                             target=\"ph\",\n",
        "                             group_ids=[\"group\"],\n",
        "                             time_varying_unknown_reals=[\"ph\"],\n",
        "                             time_varying_known_reals=[\"time\"],\n",
        "                             time_varying_known_categoricals=[\"month\", \"year\"],\n",
        "                             min_encoder_length=max_encoder_length // 2,\n",
        "                             max_encoder_length=max_encoder_length,\n",
        "                             max_prediction_length=max_prediction_length,\n",
        "                             allow_missing_timesteps=True,\n",
        "                             add_encoder_length=True\n",
        "                             )"
      ],
      "id": "6b76194a",
      "execution_count": 51,
      "outputs": []
    },
    {
      "cell_type": "code",
      "metadata": {
        "id": "8c5d5d24"
      },
      "source": [
        "batch_size=64\n",
        "validation = TimeSeriesDataSet.from_dataset(training, data, predict=True, stop_randomization=True)\n",
        "train_dataloader = training.to_dataloader(train=True, batch_size=batch_size, num_workers=0)\n",
        "val_dataloader = validation.to_dataloader(train=False, batch_size=batch_size*10, num_workers=0)"
      ],
      "id": "8c5d5d24",
      "execution_count": 52,
      "outputs": []
    },
    {
      "cell_type": "code",
      "metadata": {
        "colab": {
          "base_uri": "https://localhost:8080/"
        },
        "id": "9bc9c8ba",
        "outputId": "e540eef2-96f4-46e8-c200-db0f65353acd"
      },
      "source": [
        "actuals = torch.cat([y for x, (y, weight) in iter(val_dataloader)])\n",
        "baseline_predictions = Baseline().predict(val_dataloader)\n",
        "(actuals - baseline_predictions).abs().mean().item()"
      ],
      "id": "9bc9c8ba",
      "execution_count": 53,
      "outputs": [
        {
          "output_type": "execute_result",
          "data": {
            "text/plain": [
              "0.04099996015429497"
            ]
          },
          "metadata": {
            "tags": []
          },
          "execution_count": 53
        }
      ]
    },
    {
      "cell_type": "code",
      "metadata": {
        "colab": {
          "base_uri": "https://localhost:8080/"
        },
        "id": "oaTh9dCqKMZA",
        "outputId": "4f0edfe5-4e49-45bd-ed42-c44f4dbb1faa"
      },
      "source": [
        "print(validation)"
      ],
      "id": "oaTh9dCqKMZA",
      "execution_count": 54,
      "outputs": [
        {
          "output_type": "stream",
          "text": [
            "<pytorch_forecasting.data.timeseries.TimeSeriesDataSet object at 0x7f4eac5a4650>\n"
          ],
          "name": "stdout"
        }
      ]
    },
    {
      "cell_type": "code",
      "metadata": {
        "colab": {
          "base_uri": "https://localhost:8080/"
        },
        "id": "291527e7",
        "outputId": "28c2483f-e400-41bf-c9b2-a60a726d7989"
      },
      "source": [
        "trainer = pl.Trainer(gpus=1,\n",
        "                    gradient_clip_val=.1)\n",
        "\n",
        "tft = TemporalFusionTransformer.from_dataset(training,\n",
        "                                            learning_rate=.06,\n",
        "                                            hidden_size=6,\n",
        "                                            attention_head_size=1,\n",
        "                                            dropout=.2,\n",
        "                                            hidden_continuous_size=6,\n",
        "                                            reduce_on_plateau_patience=4)"
      ],
      "id": "291527e7",
      "execution_count": 55,
      "outputs": [
        {
          "output_type": "stream",
          "text": [
            "GPU available: True, used: True\n",
            "TPU available: False, using: 0 TPU cores\n"
          ],
          "name": "stderr"
        }
      ]
    },
    {
      "cell_type": "code",
      "metadata": {
        "colab": {
          "base_uri": "https://localhost:8080/",
          "height": 576,
          "referenced_widgets": [
            "f0444b0cac794cd092abd9ec3257d24f",
            "a2736521a19743bfb1cbc3d555286ea1",
            "1b3b69176b1c4c16b8b73a4a5143c623",
            "a4a9be03be554387954a316d593b63d1",
            "dbb264c3c0d7454eaa216e34f564f4a2",
            "b89405c753224b82ac0b648101fa68b3",
            "0f0860192c0a4529a091c6d75467b038",
            "bed6de5d0d01424ca4f929d868ffece2"
          ]
        },
        "id": "59f90c15",
        "outputId": "5e560afc-161c-4908-939d-3906fd76c357"
      },
      "source": [
        "res = trainer.tuner.lr_find(\n",
        "    tft,\n",
        "    train_dataloader=train_dataloader,\n",
        "    val_dataloaders=val_dataloader,\n",
        "    max_lr=10,\n",
        "    min_lr=1e-6,\n",
        ")"
      ],
      "id": "59f90c15",
      "execution_count": 56,
      "outputs": [
        {
          "output_type": "stream",
          "text": [
            "LOCAL_RANK: 0 - CUDA_VISIBLE_DEVICES: [0]\n",
            "\n",
            "   | Name                               | Type                            | Params\n",
            "----------------------------------------------------------------------------------------\n",
            "0  | loss                               | QuantileLoss                    | 0     \n",
            "1  | logging_metrics                    | ModuleList                      | 0     \n",
            "2  | input_embeddings                   | MultiEmbedding                  | 84    \n",
            "3  | prescalers                         | ModuleDict                      | 36    \n",
            "4  | static_variable_selection          | VariableSelectionNetwork        | 192   \n",
            "5  | encoder_variable_selection         | VariableSelectionNetwork        | 612   \n",
            "6  | decoder_variable_selection         | VariableSelectionNetwork        | 345   \n",
            "7  | static_context_variable_selection  | GatedResidualNetwork            | 180   \n",
            "8  | static_context_initial_hidden_lstm | GatedResidualNetwork            | 180   \n",
            "9  | static_context_initial_cell_lstm   | GatedResidualNetwork            | 180   \n",
            "10 | static_context_enrichment          | GatedResidualNetwork            | 180   \n",
            "11 | lstm_encoder                       | LSTM                            | 336   \n",
            "12 | lstm_decoder                       | LSTM                            | 336   \n",
            "13 | post_lstm_gate_encoder             | GatedLinearUnit                 | 84    \n",
            "14 | post_lstm_add_norm_encoder         | AddNorm                         | 12    \n",
            "15 | static_enrichment                  | GatedResidualNetwork            | 216   \n",
            "16 | multihead_attn                     | InterpretableMultiHeadAttention | 162   \n",
            "17 | post_attn_gate_norm                | GateAddNorm                     | 96    \n",
            "18 | pos_wise_ff                        | GatedResidualNetwork            | 180   \n",
            "19 | pre_output_gate_norm               | GateAddNorm                     | 96    \n",
            "20 | output_layer                       | Linear                          | 49    \n",
            "----------------------------------------------------------------------------------------\n",
            "3.5 K     Trainable params\n",
            "0         Non-trainable params\n",
            "3.5 K     Total params\n",
            "0.014     Total estimated model params size (MB)\n"
          ],
          "name": "stderr"
        },
        {
          "output_type": "display_data",
          "data": {
            "application/vnd.jupyter.widget-view+json": {
              "model_id": "f0444b0cac794cd092abd9ec3257d24f",
              "version_minor": 0,
              "version_major": 2
            },
            "text/plain": [
              "HBox(children=(FloatProgress(value=0.0, description='Finding best initial lr', style=ProgressStyle(description…"
            ]
          },
          "metadata": {
            "tags": []
          }
        },
        {
          "output_type": "stream",
          "text": [
            "Restored states from the checkpoint file at /content/drive/My Drive/Data Sets - pH2O Analytics/Datasets/Cleansed Data/lr_find_temp_model.ckpt\n"
          ],
          "name": "stderr"
        }
      ]
    },
    {
      "cell_type": "code",
      "metadata": {
        "colab": {
          "base_uri": "https://localhost:8080/",
          "height": 300
        },
        "id": "F3iR14oHN5Tg",
        "outputId": "07a6db00-3412-46cd-a69b-a637455a87e4"
      },
      "source": [
        "print(f\"suggested learning rate: {res.suggestion()}\")\n",
        "fig = res.plot(show=True, suggest=True)\n",
        "fig.show()"
      ],
      "id": "F3iR14oHN5Tg",
      "execution_count": 57,
      "outputs": [
        {
          "output_type": "stream",
          "text": [
            "suggested learning rate: 0.39810717055349754\n"
          ],
          "name": "stdout"
        },
        {
          "output_type": "display_data",
          "data": {
            "image/png": "[encoded data removed]",
            "text/plain": [
              "<Figure size 432x288 with 1 Axes>"
            ]
          },
          "metadata": {
            "tags": [],
            "needs_background": "light"
          }
        }
      ]
    }
  ]
}